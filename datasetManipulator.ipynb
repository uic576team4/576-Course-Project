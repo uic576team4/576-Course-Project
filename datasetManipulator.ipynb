{
 "cells": [
  {
   "cell_type": "code",
   "execution_count": 1,
   "metadata": {
    "colab": {},
    "colab_type": "code",
    "id": "jQRn0MbyjULf"
   },
   "outputs": [],
   "source": [
    "\n",
    "import os\n"
   ]
  },
  {
   "cell_type": "markdown",
   "metadata": {},
   "source": [
    "# Code to create a mirror of an image and save copy of original and mirrored image to a new folder."
   ]
  },
  {
   "cell_type": "code",
   "execution_count": 2,
   "metadata": {
    "colab": {},
    "colab_type": "code",
    "id": "hBAfWjA5pQ1u"
   },
   "outputs": [],
   "source": [
    "\n",
    "def mirror(inPath, outPath):\n",
    "\n",
    "    # iterate through the names of contents of the folder\n",
    "    for image in os.listdir(inPath):\n",
    "\n",
    "        # create the full input path and read the file\n",
    "        input_path = os.path.join(inPath, image)\n",
    "        output_path1 = os.path.join(outPath, image)\n",
    "        output_path2 = os.path.join(outPath, 'mirrored_'+ image)\n",
    "\n",
    "\n",
    "        image_obj = Image.open(input_path)\n",
    "        #write orig photo to new directory\n",
    "        image_obj.save(output_path1, 'JPEG')\n",
    "        #mirror image\n",
    "        rotated_image = image_obj.transpose(Image.FLIP_LEFT_RIGHT)\n",
    "        # write mirrored photo to new directory\n",
    "        rotated_image.save(output_path2, 'JPEG')\n"
   ]
  },
  {
   "cell_type": "code",
   "execution_count": 0,
   "metadata": {
    "colab": {},
    "colab_type": "code",
    "id": "3J_AltILsZQ1"
   },
   "outputs": [],
   "source": [
    "# define directory and write directory, and run mirror images function\n",
    "\n",
    "### change these\n",
    "inPath = '/Users/James/UIC/TURTLES/disasters/frames/input/human/'\n",
    "outPath = '/Users/James/UIC/TURTLES/disasters/frames/input//'\n",
    "\n",
    "#### remove this to run again if needed\n",
    "#### execute mirror function\n",
    "####mirror(inPath, outPath)"
   ]
  },
  {
   "cell_type": "markdown",
   "metadata": {
    "colab_type": "text",
    "id": "g5jkwWtJPs_y"
   },
   "source": [
    "# Code to set up train, test, validation folders\n",
    "\n",
    "Before running, set up files in main folder 'input' and subdirectory for each class, ex. input/human and input/no_human\n",
    "\n",
    "Also create an empty folder 'output'. this will be filled with train, test and valid subfolders.\n",
    "\n",
    "Note: validation folder will be named 'val' and needs to be renamed 'valid' before passing to dataloader in pytorch."
   ]
  },
  {
   "cell_type": "code",
   "execution_count": 3,
   "metadata": {
    "colab": {
     "base_uri": "https://localhost:8080/",
     "height": 105
    },
    "colab_type": "code",
    "id": "-gwcTFg4M7fW",
    "outputId": "ec9b2518-1ed4-4965-8ccb-6413242961c4"
   },
   "outputs": [
    {
     "name": "stdout",
     "output_type": "stream",
     "text": [
      "Collecting split-folders\n",
      "  Downloading https://files.pythonhosted.org/packages/20/67/29dda743e6d23ac1ea3d16704d8bbb48d65faf3f1b1eaf53153b3da56c56/split_folders-0.3.1-py3-none-any.whl\n",
      "Installing collected packages: split-folders\n",
      "Successfully installed split-folders-0.3.1\n",
      "Note: you may need to restart the kernel to use updated packages.\n"
     ]
    }
   ],
   "source": [
    "pip install split-folders\n"
   ]
  },
  {
   "cell_type": "code",
   "execution_count": 4,
   "metadata": {
    "colab": {
     "base_uri": "https://localhost:8080/",
     "height": 51
    },
    "colab_type": "code",
    "id": "std4OdepNnUf",
    "outputId": "9de5e08a-e195-4458-c41e-744ac6e0841e"
   },
   "outputs": [
    {
     "name": "stdout",
     "output_type": "stream",
     "text": [
      "Requirement already satisfied: split-folders in /opt/anaconda3/lib/python3.7/site-packages (0.3.1)\n",
      "Requirement already satisfied: tqdm in /opt/anaconda3/lib/python3.7/site-packages (4.36.1)\n",
      "Note: you may need to restart the kernel to use updated packages.\n"
     ]
    }
   ],
   "source": [
    "pip install split-folders tqdm"
   ]
  },
  {
   "cell_type": "code",
   "execution_count": 5,
   "metadata": {
    "colab": {},
    "colab_type": "code",
    "id": "TOVixtNiMzxg"
   },
   "outputs": [],
   "source": [
    "import split_folders"
   ]
  },
  {
   "cell_type": "code",
   "execution_count": 6,
   "metadata": {
    "colab": {},
    "colab_type": "code",
    "id": "FkJzlGFAP5lw"
   },
   "outputs": [],
   "source": [
    "\n",
    "input_folder = '/Users/James/UIC/TURTLES/disasters/frames/input/'\n",
    "output_folder = '/Users/James/UIC/TURTLES/disasters/frames/output/'\n"
   ]
  },
  {
   "cell_type": "code",
   "execution_count": 7,
   "metadata": {
    "colab": {
     "base_uri": "https://localhost:8080/",
     "height": 1000
    },
    "colab_type": "code",
    "id": "GOvJjAYDMzug",
    "outputId": "76c50c12-656e-4151-9c5c-490de217a0e9"
   },
   "outputs": [
    {
     "name": "stderr",
     "output_type": "stream",
     "text": [
      "Copying files: 36665 files [00:33, 1084.14 files/s]\n",
      "Oversampling: 2 classes [00:21, 10.51s/ classes]\n"
     ]
    }
   ],
   "source": [
    "# note you can also use ratio of train, valid, test, rather than fixed numbers, see \n",
    "# https://github.com/jfilter/split-folders\n",
    "split_folders.fixed(input_folder, output=output_folder, seed=1337, fixed=(400, 400), oversample=True) # default values\n"
   ]
  },
  {
   "cell_type": "code",
   "execution_count": 0,
   "metadata": {
    "colab": {},
    "colab_type": "code",
    "id": "QR9lPbQlMznO"
   },
   "outputs": [],
   "source": []
  },
  {
   "cell_type": "code",
   "execution_count": null,
   "metadata": {},
   "outputs": [],
   "source": []
  }
 ],
 "metadata": {
  "accelerator": "GPU",
  "colab": {
   "collapsed_sections": [],
   "name": "Resnet",
   "provenance": [],
   "toc_visible": true
  },
  "kernelspec": {
   "display_name": "Python 3",
   "language": "python",
   "name": "python3"
  },
  "language_info": {
   "codemirror_mode": {
    "name": "ipython",
    "version": 3
   },
   "file_extension": ".py",
   "mimetype": "text/x-python",
   "name": "python",
   "nbconvert_exporter": "python",
   "pygments_lexer": "ipython3",
   "version": "3.7.4"
  }
 },
 "nbformat": 4,
 "nbformat_minor": 1
}
